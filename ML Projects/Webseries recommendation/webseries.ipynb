{
 "cells": [
  {
   "cell_type": "code",
   "execution_count": 1,
   "id": "4b24b864",
   "metadata": {},
   "outputs": [],
   "source": [
    "import numpy as np\n",
    "import pandas as pd"
   ]
  },
  {
   "cell_type": "code",
   "execution_count": 2,
   "id": "cc5653dd",
   "metadata": {},
   "outputs": [],
   "source": [
    "web_series = pd.read_csv('All_Streaming_Shows.csv')"
   ]
  },
  {
   "cell_type": "code",
   "execution_count": 3,
   "id": "d1e2bd1f",
   "metadata": {},
   "outputs": [
    {
     "data": {
      "text/html": [
       "<div>\n",
       "<style scoped>\n",
       "    .dataframe tbody tr th:only-of-type {\n",
       "        vertical-align: middle;\n",
       "    }\n",
       "\n",
       "    .dataframe tbody tr th {\n",
       "        vertical-align: top;\n",
       "    }\n",
       "\n",
       "    .dataframe thead th {\n",
       "        text-align: right;\n",
       "    }\n",
       "</style>\n",
       "<table border=\"1\" class=\"dataframe\">\n",
       "  <thead>\n",
       "    <tr style=\"text-align: right;\">\n",
       "      <th></th>\n",
       "      <th>Series Title</th>\n",
       "      <th>Year Released</th>\n",
       "      <th>Content Rating</th>\n",
       "      <th>IMDB Rating</th>\n",
       "      <th>R Rating</th>\n",
       "      <th>Genre</th>\n",
       "      <th>Description</th>\n",
       "      <th>No of Seasons</th>\n",
       "      <th>Streaming Platform</th>\n",
       "    </tr>\n",
       "  </thead>\n",
       "  <tbody>\n",
       "    <tr>\n",
       "      <th>0</th>\n",
       "      <td>Breaking Bad</td>\n",
       "      <td>2008</td>\n",
       "      <td>18+</td>\n",
       "      <td>9.5</td>\n",
       "      <td>100</td>\n",
       "      <td>Crime,Drama</td>\n",
       "      <td>When Walter White, a New Mexico chemistry teac...</td>\n",
       "      <td>5Seasons</td>\n",
       "      <td>Netflix</td>\n",
       "    </tr>\n",
       "    <tr>\n",
       "      <th>1</th>\n",
       "      <td>Game of Thrones</td>\n",
       "      <td>2011</td>\n",
       "      <td>18+</td>\n",
       "      <td>9.3</td>\n",
       "      <td>99</td>\n",
       "      <td>Action &amp; Adventure,Drama</td>\n",
       "      <td>Seven noble families fight for control of the ...</td>\n",
       "      <td>8Seasons</td>\n",
       "      <td>HBO MAX,HBO</td>\n",
       "    </tr>\n",
       "    <tr>\n",
       "      <th>2</th>\n",
       "      <td>Rick and Morty</td>\n",
       "      <td>2013</td>\n",
       "      <td>18+</td>\n",
       "      <td>9.2</td>\n",
       "      <td>97</td>\n",
       "      <td>Animation,Comedy</td>\n",
       "      <td>Rick is a mentally-unbalanced but scientifical...</td>\n",
       "      <td>4Seasons</td>\n",
       "      <td>Free Services,HBO MAX,Hulu</td>\n",
       "    </tr>\n",
       "    <tr>\n",
       "      <th>3</th>\n",
       "      <td>Stranger Things</td>\n",
       "      <td>2016</td>\n",
       "      <td>16+</td>\n",
       "      <td>8.8</td>\n",
       "      <td>96</td>\n",
       "      <td>Drama,Fantasy</td>\n",
       "      <td>When a young boy vanishes, a small town uncove...</td>\n",
       "      <td>3Seasons</td>\n",
       "      <td>Netflix</td>\n",
       "    </tr>\n",
       "    <tr>\n",
       "      <th>4</th>\n",
       "      <td>The Boys</td>\n",
       "      <td>2019</td>\n",
       "      <td>18+</td>\n",
       "      <td>8.7</td>\n",
       "      <td>95</td>\n",
       "      <td>Action &amp; Adventure,Comedy</td>\n",
       "      <td>A group of vigilantes known informally as “The...</td>\n",
       "      <td>2Seasons</td>\n",
       "      <td>Prime Video</td>\n",
       "    </tr>\n",
       "  </tbody>\n",
       "</table>\n",
       "</div>"
      ],
      "text/plain": [
       "      Series Title  Year Released Content Rating  IMDB Rating  R Rating  \\\n",
       "0     Breaking Bad           2008            18+          9.5       100   \n",
       "1  Game of Thrones           2011            18+          9.3        99   \n",
       "2   Rick and Morty           2013            18+          9.2        97   \n",
       "3  Stranger Things           2016            16+          8.8        96   \n",
       "4         The Boys           2019            18+          8.7        95   \n",
       "\n",
       "                       Genre  \\\n",
       "0                Crime,Drama   \n",
       "1   Action & Adventure,Drama   \n",
       "2           Animation,Comedy   \n",
       "3              Drama,Fantasy   \n",
       "4  Action & Adventure,Comedy   \n",
       "\n",
       "                                         Description No of Seasons  \\\n",
       "0  When Walter White, a New Mexico chemistry teac...      5Seasons   \n",
       "1  Seven noble families fight for control of the ...      8Seasons   \n",
       "2  Rick is a mentally-unbalanced but scientifical...      4Seasons   \n",
       "3  When a young boy vanishes, a small town uncove...      3Seasons   \n",
       "4  A group of vigilantes known informally as “The...      2Seasons   \n",
       "\n",
       "           Streaming Platform  \n",
       "0                     Netflix  \n",
       "1                 HBO MAX,HBO  \n",
       "2  Free Services,HBO MAX,Hulu  \n",
       "3                     Netflix  \n",
       "4                 Prime Video  "
      ]
     },
     "execution_count": 3,
     "metadata": {},
     "output_type": "execute_result"
    }
   ],
   "source": [
    "web_series.head()"
   ]
  },
  {
   "cell_type": "code",
   "execution_count": 4,
   "id": "bf2650d5",
   "metadata": {},
   "outputs": [
    {
     "data": {
      "text/plain": [
       "(12353, 9)"
      ]
     },
     "execution_count": 4,
     "metadata": {},
     "output_type": "execute_result"
    }
   ],
   "source": [
    "web_series.shape"
   ]
  },
  {
   "cell_type": "code",
   "execution_count": 6,
   "id": "0c17e837",
   "metadata": {},
   "outputs": [
    {
     "data": {
      "text/plain": [
       "Series Title             0\n",
       "Year Released            0\n",
       "Content Rating        5121\n",
       "IMDB Rating           2146\n",
       "R Rating                 0\n",
       "Genre                    0\n",
       "Description              0\n",
       "No of Seasons            0\n",
       "Streaming Platform    1983\n",
       "dtype: int64"
      ]
     },
     "execution_count": 6,
     "metadata": {},
     "output_type": "execute_result"
    }
   ],
   "source": [
    "web_series.isnull().sum()"
   ]
  },
  {
   "cell_type": "code",
   "execution_count": null,
   "id": "597ed1c6",
   "metadata": {},
   "outputs": [],
   "source": []
  }
 ],
 "metadata": {
  "kernelspec": {
   "display_name": "Python 3",
   "language": "python",
   "name": "python3"
  },
  "language_info": {
   "codemirror_mode": {
    "name": "ipython",
    "version": 3
   },
   "file_extension": ".py",
   "mimetype": "text/x-python",
   "name": "python",
   "nbconvert_exporter": "python",
   "pygments_lexer": "ipython3",
   "version": "3.8.8"
  }
 },
 "nbformat": 4,
 "nbformat_minor": 5
}
